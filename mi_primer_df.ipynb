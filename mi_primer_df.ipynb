{
 "cells": [
  {
   "cell_type": "code",
   "execution_count": 1,
   "id": "ecc6571d",
   "metadata": {},
   "outputs": [],
   "source": [
    "# ejmeplo importar pandas\n",
    "\n",
    "import pandas as pd # importa la libreria pandas y le coloco el apodo pd\n",
    "from sklearn.datasets import load_iris # importa la funcion load_iris de la libreria sklearn"
   ]
  },
  {
   "cell_type": "code",
   "execution_count": null,
   "id": "bef78419",
   "metadata": {},
   "outputs": [],
   "source": [
    "#crear un datafram a parti de un diccionario\n",
    "datos_inicial ={\"Edad\":[18, 18,25,32], \"Estatura\":[1.7,1.65,1.82,2],\n",
    "                 \"Nacionalidad\": [\"Peru\", \"Peru\",\"EEUU\",\"Urania\"] , \"Cantidad_hijos\" : [1, \"dos\", \"cero\", 2]}\n",
    "df = pd.DataFrame(datos_inicial) # crea un dataframe a partir del  diccionario"
   ]
  },
  {
   "cell_type": "code",
   "execution_count": 14,
   "id": "15a7f7dc",
   "metadata": {},
   "outputs": [
    {
     "data": {
      "text/html": [
       "<div>\n",
       "<style scoped>\n",
       "    .dataframe tbody tr th:only-of-type {\n",
       "        vertical-align: middle;\n",
       "    }\n",
       "\n",
       "    .dataframe tbody tr th {\n",
       "        vertical-align: top;\n",
       "    }\n",
       "\n",
       "    .dataframe thead th {\n",
       "        text-align: right;\n",
       "    }\n",
       "</style>\n",
       "<table border=\"1\" class=\"dataframe\">\n",
       "  <thead>\n",
       "    <tr style=\"text-align: right;\">\n",
       "      <th></th>\n",
       "      <th>Edad</th>\n",
       "      <th>Estatura</th>\n",
       "      <th>Nacionalidad</th>\n",
       "      <th>Cantidad_hijos</th>\n",
       "    </tr>\n",
       "  </thead>\n",
       "  <tbody>\n",
       "    <tr>\n",
       "      <th>0</th>\n",
       "      <td>18</td>\n",
       "      <td>1.70</td>\n",
       "      <td>Peru</td>\n",
       "      <td>1</td>\n",
       "    </tr>\n",
       "    <tr>\n",
       "      <th>1</th>\n",
       "      <td>18</td>\n",
       "      <td>1.65</td>\n",
       "      <td>Peru</td>\n",
       "      <td>dos</td>\n",
       "    </tr>\n",
       "    <tr>\n",
       "      <th>2</th>\n",
       "      <td>25</td>\n",
       "      <td>1.82</td>\n",
       "      <td>EEUU</td>\n",
       "      <td>cero</td>\n",
       "    </tr>\n",
       "    <tr>\n",
       "      <th>3</th>\n",
       "      <td>32</td>\n",
       "      <td>2.00</td>\n",
       "      <td>Urania</td>\n",
       "      <td>2</td>\n",
       "    </tr>\n",
       "  </tbody>\n",
       "</table>\n",
       "</div>"
      ],
      "text/plain": [
       "   Edad  Estatura Nacionalidad Cantidad_hijos\n",
       "0    18      1.70         Peru              1\n",
       "1    18      1.65         Peru            dos\n",
       "2    25      1.82         EEUU           cero\n",
       "3    32      2.00       Urania              2"
      ]
     },
     "execution_count": 14,
     "metadata": {},
     "output_type": "execute_result"
    }
   ],
   "source": [
    "df"
   ]
  },
  {
   "cell_type": "code",
   "execution_count": null,
   "id": "4b9098b3",
   "metadata": {},
   "outputs": [
    {
     "name": "stdout",
     "output_type": "stream",
     "text": [
      "<class 'pandas.core.frame.DataFrame'>\n",
      "RangeIndex: 4 entries, 0 to 3\n",
      "Data columns (total 4 columns):\n",
      " #   Column          Non-Null Count  Dtype  \n",
      "---  ------          --------------  -----  \n",
      " 0   Edad            4 non-null      int64  \n",
      " 1   Estatura        4 non-null      float64\n",
      " 2   Nacionalidad    4 non-null      object \n",
      " 3   Cantidad_hijos  4 non-null      object \n",
      "dtypes: float64(1), int64(1), object(2)\n",
      "memory usage: 260.0+ bytes\n"
     ]
    }
   ],
   "source": [
    "df.info()#muestra informacion de tipo de datos del datafreme"
   ]
  },
  {
   "cell_type": "code",
   "execution_count": 16,
   "id": "ce38b3d5",
   "metadata": {},
   "outputs": [
    {
     "data": {
      "text/html": [
       "<div>\n",
       "<style scoped>\n",
       "    .dataframe tbody tr th:only-of-type {\n",
       "        vertical-align: middle;\n",
       "    }\n",
       "\n",
       "    .dataframe tbody tr th {\n",
       "        vertical-align: top;\n",
       "    }\n",
       "\n",
       "    .dataframe thead th {\n",
       "        text-align: right;\n",
       "    }\n",
       "</style>\n",
       "<table border=\"1\" class=\"dataframe\">\n",
       "  <thead>\n",
       "    <tr style=\"text-align: right;\">\n",
       "      <th></th>\n",
       "      <th>Edad</th>\n",
       "      <th>Estatura</th>\n",
       "    </tr>\n",
       "  </thead>\n",
       "  <tbody>\n",
       "    <tr>\n",
       "      <th>count</th>\n",
       "      <td>4.00000</td>\n",
       "      <td>4.000000</td>\n",
       "    </tr>\n",
       "    <tr>\n",
       "      <th>mean</th>\n",
       "      <td>23.25000</td>\n",
       "      <td>1.792500</td>\n",
       "    </tr>\n",
       "    <tr>\n",
       "      <th>std</th>\n",
       "      <td>6.70199</td>\n",
       "      <td>0.155644</td>\n",
       "    </tr>\n",
       "    <tr>\n",
       "      <th>min</th>\n",
       "      <td>18.00000</td>\n",
       "      <td>1.650000</td>\n",
       "    </tr>\n",
       "    <tr>\n",
       "      <th>25%</th>\n",
       "      <td>18.00000</td>\n",
       "      <td>1.687500</td>\n",
       "    </tr>\n",
       "    <tr>\n",
       "      <th>50%</th>\n",
       "      <td>21.50000</td>\n",
       "      <td>1.760000</td>\n",
       "    </tr>\n",
       "    <tr>\n",
       "      <th>75%</th>\n",
       "      <td>26.75000</td>\n",
       "      <td>1.865000</td>\n",
       "    </tr>\n",
       "    <tr>\n",
       "      <th>max</th>\n",
       "      <td>32.00000</td>\n",
       "      <td>2.000000</td>\n",
       "    </tr>\n",
       "  </tbody>\n",
       "</table>\n",
       "</div>"
      ],
      "text/plain": [
       "           Edad  Estatura\n",
       "count   4.00000  4.000000\n",
       "mean   23.25000  1.792500\n",
       "std     6.70199  0.155644\n",
       "min    18.00000  1.650000\n",
       "25%    18.00000  1.687500\n",
       "50%    21.50000  1.760000\n",
       "75%    26.75000  1.865000\n",
       "max    32.00000  2.000000"
      ]
     },
     "execution_count": 16,
     "metadata": {},
     "output_type": "execute_result"
    }
   ],
   "source": [
    "df.describe ()#muestra estadisticas descriptivas del dafreme"
   ]
  },
  {
   "cell_type": "code",
   "execution_count": 25,
   "id": "cd16880c",
   "metadata": {},
   "outputs": [
    {
     "data": {
      "text/plain": [
       "<Axes: >"
      ]
     },
     "execution_count": 25,
     "metadata": {},
     "output_type": "execute_result"
    },
    {
     "data": {
      "image/png": "[encoded data removed]",
      "text/plain": [
       "<Figure size 640x480 with 1 Axes>"
      ]
     },
     "metadata": {},
     "output_type": "display_data"
    }
   ],
   "source": [
    "df[\"Edad\"].plot(kind=\"bar\")#genera gafico de barras  de la columna  edad del daframe df"
   ]
  },
  {
   "cell_type": "code",
   "execution_count": 33,
   "id": "e9a735a9",
   "metadata": {},
   "outputs": [
    {
     "data": {
      "text/plain": [
       "<Axes: ylabel='count'>"
      ]
     },
     "execution_count": 33,
     "metadata": {},
     "output_type": "execute_result"
    },
    {
     "data": {
      "image/png": "[encoded data removed]",
      "text/plain": [
       "<Figure size 640x480 with 1 Axes>"
      ]
     },
     "metadata": {},
     "output_type": "display_data"
    }
   ],
   "source": [
    "frecuencias = df[\"Nacionalidad\"].value_counts()# cuenta las \n",
    "frecuencias.plot(kind=\"pie\", legend=frecuencias.all(), autopct=\"%1.1f%%\")"
   ]
  },
  {
   "cell_type": "code",
   "execution_count": 32,
   "id": "503dc493",
   "metadata": {},
   "outputs": [
    {
     "data": {
      "text/plain": [
       "<Axes: xlabel='Edad', ylabel='Estatura'>"
      ]
     },
     "execution_count": 32,
     "metadata": {},
     "output_type": "execute_result"
    },
    {
     "data": {
      "image/png": "[encoded data removed]",
      "text/plain": [
       "<Figure size 640x480 with 1 Axes>"
      ]
     },
     "metadata": {},
     "output_type": "display_data"
    }
   ],
   "source": [
    "#grafio nube de puntos\n",
    "df.plot(kind=\"scatter\",x=\"Edad\", y=\"Estatura\") "
   ]
  },
  {
   "cell_type": "code",
   "execution_count": 38,
   "id": "e37293ab",
   "metadata": {},
   "outputs": [],
   "source": [
    "#crear dataframe en bae en documenos (Excel, CVS, JSON)\n",
    "\n",
    "df.to_csv (\"df_23_08.cvs\" ,index=False)#guarda el daframe\n",
    "df.to_excel (\"df_23_08.xlsx\", index=False)\n",
    "df.to_json (\"df_23_08.json\" ,index=False)"
   ]
  },
  {
   "cell_type": "code",
   "execution_count": null,
   "id": "7a3b2d0e",
   "metadata": {},
   "outputs": [],
   "source": []
  }
 ],
 "metadata": {
  "kernelspec": {
   "display_name": "_env",
   "language": "python",
   "name": "python3"
  },
  "language_info": {
   "codemirror_mode": {
    "name": "ipython",
    "version": 3
   },
   "file_extension": ".py",
   "mimetype": "text/x-python",
   "name": "python",
   "nbconvert_exporter": "python",
   "pygments_lexer": "ipython3",
   "version": "3.13.3"
  }
 },
 "nbformat": 4,
 "nbformat_minor": 5
}
